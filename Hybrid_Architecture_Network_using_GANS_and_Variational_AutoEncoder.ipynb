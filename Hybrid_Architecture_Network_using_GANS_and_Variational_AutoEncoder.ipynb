{
  "nbformat": 4,
  "nbformat_minor": 0,
  "metadata": {
    "colab": {
      "name": "Hybrid_Architecture_Network.ipynb",
      "version": "0.3.2",
      "provenance": [],
      "collapsed_sections": [],
      "include_colab_link": true
    },
    "kernelspec": {
      "name": "python3",
      "display_name": "Python 3"
    },
    "accelerator": "GPU"
  },
  "cells": [
    {
      "cell_type": "markdown",
      "metadata": {
        "id": "view-in-github",
        "colab_type": "text"
      },
      "source": [
        "<a href=\"https://colab.research.google.com/github/temiafeye/Colab-Projects/blob/master/Hybrid_Architecture_Network_using_GANS_and_Variational_AutoEncoder.ipynb\" target=\"_parent\"><img src=\"https://colab.research.google.com/assets/colab-badge.svg\" alt=\"Open In Colab\"/></a>"
      ]
    },
    {
      "metadata": {
        "id": "725tZXJpflAJ",
        "colab_type": "text"
      },
      "cell_type": "markdown",
      "source": [
        "\n",
        "\n",
        "```\n",
        "`# We are building an Hybrid Architecture Network, a combination of deep learning models, VAE+CPPN+GAN, to generate artistic images. \n",
        "The Hybrid Network consists of \n",
        "\n",
        "- VAE(variational autoencoder) = Q(encoder) + G(decoder)\n",
        "- GAN (generative adversarial network) = G(generator) + D(discriminator)\n",
        "- VAE - GAN = Q(encoder) + G(decoder/generator) + D(discriminator)\n",
        "\n"
      ]
    },
    {
      "metadata": {
        "id": "FaJcgt-9hFGe",
        "colab_type": "code",
        "colab": {}
      },
      "cell_type": "code",
      "source": [
        "#Install Tensorflow 2.0 alpha\n",
        "!pip install -q tensorflow-gpu==2.0.0-alpha0\n",
        "# !pip install - q tensorboardcolab"
      ],
      "execution_count": 0,
      "outputs": []
    },
    {
      "metadata": {
        "id": "EoEuwFYgiIpf",
        "colab_type": "code",
        "colab": {}
      },
      "cell_type": "code",
      "source": [
        "import numpy as np\n",
        "import tensorflow as tf\n",
        "import tensorflow.keras.backend as K\n",
        "import tensorflow.keras.layers as layers\n",
        "import matplotlib.pyplot as plt\n",
        "import IPython.display as display\n",
        "import google.colab.files as files\n",
        "import sys, time\n",
        "import imageio, glob\n",
        "print('Python version: ', sys.version) \n",
        "print('Tensorflow version: ', tf.__version__)\n",
        "\n",
        "device_name = tf.test.gpu_device_name()\n",
        "if device_name !='/device:GPU:0':\n",
        "  raise SystemError('GPU Device not found')\n",
        "print('GPU found at: {}'. format(device_name))\n",
        "\n",
        "import tensorboardcolab as tbc\n",
        "tb = tbc.TensorBoardColab()"
      ],
      "execution_count": 0,
      "outputs": []
    },
    {
      "metadata": {
        "id": "XXXpU0ENmo4u",
        "colab_type": "text"
      },
      "cell_type": "markdown",
      "source": [
        "Define Global Variables\n"
      ]
    },
    {
      "metadata": {
        "id": "hvaa8N1zmwkp",
        "colab_type": "code",
        "colab": {}
      },
      "cell_type": "code",
      "source": [
        "NBATCH = 500 #size of the mini-batch\n",
        "NX = 28 # image width \n",
        "NY = 28 #image height\n",
        "NC = 1 #number of channels ()\n",
        "NZ = 32 #VAE: size of latent variable\n",
        "SCALE = 6 #CPPN: zooming scale "
      ],
      "execution_count": 0,
      "outputs": []
    },
    {
      "metadata": {
        "id": "MAi9XKHFnwDr",
        "colab_type": "code",
        "colab": {}
      },
      "cell_type": "code",
      "source": [
        "#load the MNIST Dataset \n",
        "(x_train, y_train), (x_test, y_test) = tf.keras.datasets.mnist.load_data()"
      ],
      "execution_count": 0,
      "outputs": []
    },
    {
      "metadata": {
        "id": "KuLMsegmob_a",
        "colab_type": "code",
        "outputId": "9c0d9874-5391-43cc-a630-48cfae98c78d",
        "colab": {
          "base_uri": "https://localhost:8080/",
          "height": 34
        }
      },
      "cell_type": "code",
      "source": [
        "x_train = x_train.reshape(-1, NY, NX, NC).astype(np.float32) / 255.0\n",
        "x_test = x_test.reshape(-1, NY, NX, NC).astype(np.float32) / 255.0\n",
        "NSAMPLE = x_train.shape[0]\n",
        "x_batches = tf.data.Dataset.from_tensor_slices(x_train).shuffle(NSAMPLE).batch(NBATCH)\n",
        "print(x_train.shape, x_test.shape)\n",
        "\n",
        "def find_x(digit):\n",
        "  ''' find testing data by digit'''\n",
        "  i = -1\n",
        "  while i == -1 or y_test[i] != digit:\n",
        "    i = np.random.randit(y_test.shape[0])\n",
        "    return x_test[i:i+1]\n"
      ],
      "execution_count": 0,
      "outputs": [
        {
          "output_type": "stream",
          "text": [
            "(60000, 28, 28, 1) (10000, 28, 28, 1)\n"
          ],
          "name": "stdout"
        }
      ]
    },
    {
      "metadata": {
        "id": "UJjHkW_MqY1a",
        "colab_type": "code",
        "outputId": "c4f445ae-1439-4c10-87aa-571b26225fca",
        "colab": {
          "base_uri": "https://localhost:8080/",
          "height": 286
        }
      },
      "cell_type": "code",
      "source": [
        "''' Pre-calculate CPPN coordinate matrices'''\n",
        "def create_coordinates(nx=NX, ny=NY, scale=SCALE, nbatch=NBATCH):\n",
        "  n = (nx+ny) / 2\n",
        "  nx2, ny2 = nx/n*scale, ny/n*scale\n",
        "  xs, ys = np.meshgrid(np.linspace(-nx2, nx2, nx), np.linspace(-ny2, ny2, ny))\n",
        "  rs = np.sqrt(xs**2 + ys**2)\n",
        "  \n",
        "  xs_repeat = np.tile(np.reshape(xs, (1, nx*ny, 1)), (nbatch, 1, 1))\n",
        "  ys_repeat = np.tile(np.reshape(xs, (1, nx*ny, 1)), (nbatch, 1, 1))\n",
        "  rs_repeat = np.tile(np.reshape(xs, (1, nx*ny, 1)), (nbatch, 1, 1))\n",
        "  coords = np.concatenate((xs_repeat, ys_repeat, rs_repeat), axis=-1).astype(np.float32)\n",
        "  return coords, xs, ys, rs\n",
        "\n",
        "coords, xs, ys, rs = create_coordinates()\n",
        "plt.imshow(rs, cmap='jet')\n",
        "plt.colorbar()\n",
        "\n",
        "coords_sample, _, _, _ = create_coordinates(nbatch=5)\n",
        "\n",
        "print(coords.shape)\n",
        "\n"
      ],
      "execution_count": 0,
      "outputs": [
        {
          "output_type": "stream",
          "text": [
            "(500, 784, 3)\n"
          ],
          "name": "stdout"
        },
        {
          "output_type": "display_data",
          "data": {
            "image/png": "[encoded data removed]",
            "text/plain": [
              "<Figure size 432x288 with 2 Axes>"
            ]
          },
          "metadata": {
            "tags": []
          }
        }
      ]
    },
    {
      "metadata": {
        "id": "FFqobP3Sva10",
        "colab_type": "text"
      },
      "cell_type": "markdown",
      "source": [
        "Components - Define various compents of the hybrid structure"
      ]
    },
    {
      "metadata": {
        "id": "GalCezlgvgq4",
        "colab_type": "code",
        "colab": {}
      },
      "cell_type": "code",
      "source": [
        "'''VAE (variational autoencoder) using MLP (multilayer perceptron)'''\n",
        "\n",
        "def model_vae_encoder(name='VAE-Q', nodes=32):\n",
        "  return tf.keras.Sequential([\n",
        "      layers.InputLayer(input_shape=(NY, NX, NC)),\n",
        "      layers.Flatten(),\n",
        "      layers.Dense(nodes, activation='relu'),\n",
        "      layers.Dense(nodes, activation='relu'),\n",
        "      layers.Dense(NZ + NZ),\n",
        "  ], name=name)\n",
        "\n",
        "def model_vae_decoder(name='VAE-P', nodes=32):\n",
        "  return tf.keras.Sequential([\n",
        "      layers.InputLayer(input_shape=(NZ,)),\n",
        "      layers.Dense(nodes, activation = 'relu'),\n",
        "      layers.Dense(nodes, activation = 'relu'),\n",
        "      layers.Dense(NX*NY*NC, activation = 'sigmoid'),\n",
        "      layers.Reshape([NY, NX, NC])\n",
        "  ], name=name)\n",
        "\n",
        "''' DCIGN (deep convolutional inverse graphics network)\n",
        "= VAE using CNN (convolutional neural network)'''\n",
        "\n",
        "def model_dcign_encoder(name='DCIGN-Q', nodes=32):\n",
        "  return tf.keras.Sequential([\n",
        "      layers.InputLayer(input_shape=(NY, NX, NC)),\n",
        "      layers.Conv2D(nodes*1, (3,3), strides=(2,2), padding='same', activation='relu'),\n",
        "      layers.Conv2D(nodes*2, (3,3), strides=(2,2), padding='same', activation='relu'),\n",
        "      layers.Flatten(),\n",
        "      layers.Dense(NZ+NZ),\n",
        "  ], name=name)\n",
        "\n",
        "def model_dcign_decoder(name='DCIGN-P', nodes=32):\n",
        "  return tf.keras.Sequential([\n",
        "      layers.InputLayer(input_shape=(NZ,)),\n",
        "      layers.Dense(7*7*nodes, activation='relu'),\n",
        "      layers.Reshape((7, 7, nodes)),\n",
        "      layers.Conv2DTranspose(nodes*2, (3,3), strides=(2,2), padding='same', activation='relu'),\n",
        "      layers.Conv2DTranspose(nodes*1, (3,3), strides=(2,2), padding='same', activation='relu'),\n",
        "      layers.Conv2DTranspose(NC, (3,3), strides=(1,1), padding='same', activation='relu'),\n",
        "  ], name=name)\n",
        "\n",
        "def param_splits(z_params):\n",
        "  return tf.split(z_params, 2, axis=1)\n",
        "\n",
        "def sample_func(z_params, mean=0, stddev=1):\n",
        "  z_mean, z_logvar = param_split(z_params)\n",
        "  eps = tf.random.normal(shape =tf.shape(z_mean), mean=mean, stddev=stddev)\n",
        "  return z_mean + tf.exp(z_lagvar * 0.5) * eps\n",
        "\n",
        "def sample(z_params, mean=0, stddev=1):\n",
        "  return layers.Lambda(sample_func)(z_params)\n",
        "\n",
        "''' CPPN(compositional pattern producing network)'''\n",
        "\n",
        "def repeat_vector(inputs):\n",
        "  vec_in, dim_in = inputs\n",
        "  return layers.RepeatVector(K.shape(dim_in)[1]) (vec_in)\n",
        "\n",
        "def model_cppn_generator(name='CPPN_G', levels=4, nodes=32, stddev=1):\n",
        "  normal_init = tf.keras.initializers.RandomNormal (stddev = stddev)\n",
        "  inits = {'kernel_initializer': normal_init} #this initializes the biases\n",
        "  \n",
        "  z_in = layers.Input(shape=(NZ,))\n",
        "  coord_in = layers.Input(shape=(None, 3))\n",
        "  h = layers.Lambda(repeat_vector, ouptut_shape=(None, NZ))([z_in, coord_in])\n",
        "  h = layers.Concatenate() ([h, coord_in])\n",
        "  h = layers.Dense(nodes, activation='softplus', **inits) (h)\n",
        "  for i in range(levels):\n",
        "    h = layers.Dense(nodes, activation='tanh', **inits) (h)\n",
        "  h = layers.Dense(NC, activation='sigmoid', **inits) (h)\n",
        "  x_out = layers.Flatten() (h)\n",
        "  return tf.keras.Model(inputs=[z_in, coord_in], ouputs = x_out, name=name)\n",
        "\n",
        "def sq(x, nx=NX, ny=NY, nc=NC):\n",
        "  return tf.reshape(x, (-1, ny, nx, nc))\n",
        "\n",
        "\n",
        "''' DCGAN(deep convolutional generative adversarial network) '''\n",
        "def model_dcgan_generator(name='DCGAN-G', filters=32, stddev=0.02):\n",
        "  inits = {}\n",
        "  model = tf.keras.Sequential(name=name)\n",
        "  model.add(layers.InputLayer(input_shape=(NZ,)))\n",
        "  model.add(layers.Dense(7*7*filters*4, **inits))\n",
        "  model.add(layers.BatchNormalization())\n",
        "  model.add(layers.ReLU())\n",
        "  model.add(layers.Reshape((7,7, filters*4)))\n",
        "  for f, s in zip([2,1], [1,2]):\n",
        "    model.add(layers.Conv2DTranspose(filters*f, (5,5), strides=(s,s), padding='same', **inits))\n",
        "    model.add(layers.BatchNormalization())\n",
        "    model.add(layers.ReLU)\n",
        "  model.add(layers.Conv2DTranspose(NC, (5,5), strides=(2,2), padding='same', **inits, activation='tanh'))\n",
        "  assert model.output_shape == (None, NY, NX,NC)\n",
        "  return model\n",
        "\n",
        "def model_dcgan_discriminator(name='DCGAN-D', filters=32, stddev=0.02):\n",
        "  inits = {}\n",
        "  \n",
        "  model = tf.keras.Sequential(name=name)\n",
        "  model.add(layers.InputLayer(input_shape=(NY, NX, NC)))\n",
        "  for f in [1,2]:\n",
        "    model.add(layers.Conv2D(filters*f, (5,5), strides=(2,2), padding='same', **inits))\n",
        "    if f>1: model.add(layers.BatchNormalization())\n",
        "    model.add(layers.LeakyReLU())\n",
        "    model.add(layers.Flatten())\n",
        "    model.add(layers.Dense(1, **inits)) \n",
        "    return model \n",
        "  \n",
        "''' show graph of models'''\n",
        "\n",
        "def display_models(models):\n",
        "  imgs = []\n",
        "  for m in models:\n",
        "    tf.keras.utils.plot_models(m, to_file=m.name+'.png', show_shapes=True, show_layer=True)\n",
        "    imgs.append(m.name)\n",
        "    imgs.append(display.Image(retina=True, filename=m.name+'.png'))\n",
        "    display.display(*imgs)\n",
        "  \n",
        "\n",
        "\n",
        "\n",
        "              \n",
        "\n",
        "\n",
        "                    \n",
        "                   "
      ],
      "execution_count": 0,
      "outputs": []
    },
    {
      "metadata": {
        "id": "CKe0wpF4syFb",
        "colab_type": "code",
        "colab": {}
      },
      "cell_type": "code",
      "source": [
        "''' Define Loss function '''\n",
        "def kid(z_mean, z_logvar):\n",
        "  ''' Kullback-LEibler divergence in VAE'''\n",
        "  return -0.5 * K.sum(1 + z_logvar - K.square(z_mean) - K.exp(z_logvar), axis=1) / (NX*NY*NC)\n",
        "\n",
        "def bce(y1, y2):\n",
        "  ''' Binary cross entropy for use in AE'''\n",
        "  y1_flat = tf.reshape(y1, (-1, NX*NY*NC))\n",
        "  y2_flat = tf.reshape(y1, (-1, NX*NY*NC))\n",
        "  return tf.keras.losses.binary_crossentropy(y1_flat, y2_flat)\n",
        "\n",
        "def bce_logits(b,y):\n",
        "  ''' Binary cross-entropy from logits for use in GAN'''\n",
        "  truth = tf.ones_like(y) if b else tf.zeros_like(y)\n",
        "  return tf.keras.losses.binary_crossentropy(truth, y, from_logits=True)\n",
        "  "
      ],
      "execution_count": 0,
      "outputs": []
    },
    {
      "metadata": {
        "id": "d_FWVq7ivj3O",
        "colab_type": "text"
      },
      "cell_type": "markdown",
      "source": [
        "Test"
      ]
    },
    {
      "metadata": {
        "id": "6ADSUFImvhyi",
        "colab_type": "code",
        "outputId": "8aae95b9-fac1-4887-9f73-0fbd39cd7f9f",
        "colab": {
          "base_uri": "https://localhost:8080/",
          "height": 164
        }
      },
      "cell_type": "code",
      "source": [
        "len(all_g_loss) /NSAMPLE*NBATCH"
      ],
      "execution_count": 0,
      "outputs": [
        {
          "output_type": "error",
          "ename": "NameError",
          "evalue": "ignored",
          "traceback": [
            "\u001b[0;31m---------------------------------------------------------------------------\u001b[0m",
            "\u001b[0;31mNameError\u001b[0m                                 Traceback (most recent call last)",
            "\u001b[0;32m<ipython-input-38-1133f0950297>\u001b[0m in \u001b[0;36m<module>\u001b[0;34m()\u001b[0m\n\u001b[0;32m----> 1\u001b[0;31m \u001b[0mlen\u001b[0m\u001b[0;34m(\u001b[0m\u001b[0mall_g_loss\u001b[0m\u001b[0;34m)\u001b[0m \u001b[0;34m/\u001b[0m\u001b[0mNSAMPLE\u001b[0m\u001b[0;34m*\u001b[0m\u001b[0mNBATCH\u001b[0m\u001b[0;34m\u001b[0m\u001b[0;34m\u001b[0m\u001b[0m\n\u001b[0m",
            "\u001b[0;31mNameError\u001b[0m: name 'all_g_loss' is not defined"
          ]
        }
      ]
    },
    {
      "metadata": {
        "id": "-0iHrJGyvwB8",
        "colab_type": "code",
        "outputId": "fbf2f57e-3b91-4972-8d20-e5ab26ff852f",
        "colab": {
          "base_uri": "https://localhost:8080/",
          "height": 708
        }
      },
      "cell_type": "code",
      "source": [
        "''' test CPPN '''\n",
        "g = model_cppn_generator(levels=4, nodes=64, stddev=1)\n",
        "\n",
        "XL = 20\n",
        "coords_test = create_coordinates(nx=NX*XL, ny=NY*XL, scale=6, nbatch=1)\n",
        "\n",
        "noise_z = tf.random.normal((1, NZ), stddev=1)\n",
        "x3 = sq(g([noise_z, coords_test]), nx=NX*XL, ny=NY*XL)\n",
        "\n",
        "plt.figure(figsize=(8,12))\n",
        "plt.imshow(tf.reshape(x3[0], (NY*XL, NX*XL)), vmin=0, vmax=1, cmap='gray')\n",
        "plt.axis('off')\n",
        "plt.show()"
      ],
      "execution_count": 0,
      "outputs": [
        {
          "output_type": "error",
          "ename": "TypeError",
          "evalue": "ignored",
          "traceback": [
            "\u001b[0;31m---------------------------------------------------------------------------\u001b[0m",
            "\u001b[0;31mTypeError\u001b[0m                                 Traceback (most recent call last)",
            "\u001b[0;32m<ipython-input-39-f4259acbc99d>\u001b[0m in \u001b[0;36m<module>\u001b[0;34m()\u001b[0m\n\u001b[1;32m      1\u001b[0m \u001b[0;34m''' test CPPN '''\u001b[0m\u001b[0;34m\u001b[0m\u001b[0;34m\u001b[0m\u001b[0m\n\u001b[0;32m----> 2\u001b[0;31m \u001b[0mg\u001b[0m \u001b[0;34m=\u001b[0m \u001b[0mmodel_cppn_generator\u001b[0m\u001b[0;34m(\u001b[0m\u001b[0mlevels\u001b[0m\u001b[0;34m=\u001b[0m\u001b[0;36m4\u001b[0m\u001b[0;34m,\u001b[0m \u001b[0mnodes\u001b[0m\u001b[0;34m=\u001b[0m\u001b[0;36m64\u001b[0m\u001b[0;34m,\u001b[0m \u001b[0mstddev\u001b[0m\u001b[0;34m=\u001b[0m\u001b[0;36m1\u001b[0m\u001b[0;34m)\u001b[0m\u001b[0;34m\u001b[0m\u001b[0;34m\u001b[0m\u001b[0m\n\u001b[0m\u001b[1;32m      3\u001b[0m \u001b[0;34m\u001b[0m\u001b[0m\n\u001b[1;32m      4\u001b[0m \u001b[0mXL\u001b[0m \u001b[0;34m=\u001b[0m \u001b[0;36m20\u001b[0m\u001b[0;34m\u001b[0m\u001b[0;34m\u001b[0m\u001b[0m\n\u001b[1;32m      5\u001b[0m \u001b[0mcoords_test\u001b[0m \u001b[0;34m=\u001b[0m \u001b[0mcreate_coordinates\u001b[0m\u001b[0;34m(\u001b[0m\u001b[0mnx\u001b[0m\u001b[0;34m=\u001b[0m\u001b[0mNX\u001b[0m\u001b[0;34m*\u001b[0m\u001b[0mXL\u001b[0m\u001b[0;34m,\u001b[0m \u001b[0mny\u001b[0m\u001b[0;34m=\u001b[0m\u001b[0mNY\u001b[0m\u001b[0;34m*\u001b[0m\u001b[0mXL\u001b[0m\u001b[0;34m,\u001b[0m \u001b[0mscale\u001b[0m\u001b[0;34m=\u001b[0m\u001b[0;36m6\u001b[0m\u001b[0;34m,\u001b[0m \u001b[0mnbatch\u001b[0m\u001b[0;34m=\u001b[0m\u001b[0;36m1\u001b[0m\u001b[0;34m)\u001b[0m\u001b[0;34m\u001b[0m\u001b[0;34m\u001b[0m\u001b[0m\n",
            "\u001b[0;32m<ipython-input-36-32ae28ee8afe>\u001b[0m in \u001b[0;36mmodel_cppn_generator\u001b[0;34m(name, levels, nodes, stddev)\u001b[0m\n\u001b[1;32m     64\u001b[0m   \u001b[0mz_in\u001b[0m \u001b[0;34m=\u001b[0m \u001b[0mlayers\u001b[0m\u001b[0;34m.\u001b[0m\u001b[0mInput\u001b[0m\u001b[0;34m(\u001b[0m\u001b[0mshape\u001b[0m\u001b[0;34m=\u001b[0m\u001b[0;34m(\u001b[0m\u001b[0mNZ\u001b[0m\u001b[0;34m,\u001b[0m\u001b[0;34m)\u001b[0m\u001b[0;34m)\u001b[0m\u001b[0;34m\u001b[0m\u001b[0;34m\u001b[0m\u001b[0m\n\u001b[1;32m     65\u001b[0m   \u001b[0mcoord_in\u001b[0m \u001b[0;34m=\u001b[0m \u001b[0mlayers\u001b[0m\u001b[0;34m.\u001b[0m\u001b[0mInput\u001b[0m\u001b[0;34m(\u001b[0m\u001b[0mshape\u001b[0m\u001b[0;34m=\u001b[0m\u001b[0;34m(\u001b[0m\u001b[0;32mNone\u001b[0m\u001b[0;34m,\u001b[0m \u001b[0;36m3\u001b[0m\u001b[0;34m)\u001b[0m\u001b[0;34m)\u001b[0m\u001b[0;34m\u001b[0m\u001b[0;34m\u001b[0m\u001b[0m\n\u001b[0;32m---> 66\u001b[0;31m   \u001b[0mh\u001b[0m \u001b[0;34m=\u001b[0m \u001b[0mlayers\u001b[0m\u001b[0;34m.\u001b[0m\u001b[0mLambda\u001b[0m\u001b[0;34m(\u001b[0m\u001b[0mrepeat_vector\u001b[0m\u001b[0;34m,\u001b[0m \u001b[0mouptut_shape\u001b[0m\u001b[0;34m=\u001b[0m\u001b[0;34m(\u001b[0m\u001b[0;32mNone\u001b[0m\u001b[0;34m,\u001b[0m \u001b[0mNZ\u001b[0m\u001b[0;34m)\u001b[0m\u001b[0;34m)\u001b[0m\u001b[0;34m(\u001b[0m\u001b[0;34m[\u001b[0m\u001b[0mz_in\u001b[0m\u001b[0;34m,\u001b[0m \u001b[0mcoord_in\u001b[0m\u001b[0;34m]\u001b[0m\u001b[0;34m)\u001b[0m\u001b[0;34m\u001b[0m\u001b[0;34m\u001b[0m\u001b[0m\n\u001b[0m\u001b[1;32m     67\u001b[0m   \u001b[0mh\u001b[0m \u001b[0;34m=\u001b[0m \u001b[0mlayers\u001b[0m\u001b[0;34m.\u001b[0m\u001b[0mConcatenate\u001b[0m\u001b[0;34m(\u001b[0m\u001b[0;34m)\u001b[0m \u001b[0;34m(\u001b[0m\u001b[0;34m[\u001b[0m\u001b[0mh\u001b[0m\u001b[0;34m,\u001b[0m \u001b[0mcoord_in\u001b[0m\u001b[0;34m]\u001b[0m\u001b[0;34m)\u001b[0m\u001b[0;34m\u001b[0m\u001b[0;34m\u001b[0m\u001b[0m\n\u001b[1;32m     68\u001b[0m   \u001b[0mh\u001b[0m \u001b[0;34m=\u001b[0m \u001b[0mlayers\u001b[0m\u001b[0;34m.\u001b[0m\u001b[0mDense\u001b[0m\u001b[0;34m(\u001b[0m\u001b[0mnodes\u001b[0m\u001b[0;34m,\u001b[0m \u001b[0mactivation\u001b[0m\u001b[0;34m=\u001b[0m\u001b[0;34m'softplus'\u001b[0m\u001b[0;34m,\u001b[0m \u001b[0;34m**\u001b[0m\u001b[0minits\u001b[0m\u001b[0;34m)\u001b[0m \u001b[0;34m(\u001b[0m\u001b[0mh\u001b[0m\u001b[0;34m)\u001b[0m\u001b[0;34m\u001b[0m\u001b[0;34m\u001b[0m\u001b[0m\n",
            "\u001b[0;32m/usr/local/lib/python3.6/dist-packages/tensorflow/python/keras/layers/core.py\u001b[0m in \u001b[0;36m__init__\u001b[0;34m(self, function, output_shape, mask, arguments, **kwargs)\u001b[0m\n\u001b[1;32m    670\u001b[0m   def __init__(self, function, output_shape=None, mask=None, arguments=None,\n\u001b[1;32m    671\u001b[0m                **kwargs):\n\u001b[0;32m--> 672\u001b[0;31m     \u001b[0msuper\u001b[0m\u001b[0;34m(\u001b[0m\u001b[0mLambda\u001b[0m\u001b[0;34m,\u001b[0m \u001b[0mself\u001b[0m\u001b[0;34m)\u001b[0m\u001b[0;34m.\u001b[0m\u001b[0m__init__\u001b[0m\u001b[0;34m(\u001b[0m\u001b[0;34m**\u001b[0m\u001b[0mkwargs\u001b[0m\u001b[0;34m)\u001b[0m\u001b[0;34m\u001b[0m\u001b[0;34m\u001b[0m\u001b[0m\n\u001b[0m\u001b[1;32m    673\u001b[0m     \u001b[0mself\u001b[0m\u001b[0;34m.\u001b[0m\u001b[0mfunction\u001b[0m \u001b[0;34m=\u001b[0m \u001b[0mfunction\u001b[0m\u001b[0;34m\u001b[0m\u001b[0;34m\u001b[0m\u001b[0m\n\u001b[1;32m    674\u001b[0m     \u001b[0mself\u001b[0m\u001b[0;34m.\u001b[0m\u001b[0marguments\u001b[0m \u001b[0;34m=\u001b[0m \u001b[0marguments\u001b[0m \u001b[0;32mif\u001b[0m \u001b[0marguments\u001b[0m \u001b[0;32melse\u001b[0m \u001b[0;34m{\u001b[0m\u001b[0;34m}\u001b[0m\u001b[0;34m\u001b[0m\u001b[0;34m\u001b[0m\u001b[0m\n",
            "\u001b[0;32m/usr/local/lib/python3.6/dist-packages/tensorflow/python/training/checkpointable/base.py\u001b[0m in \u001b[0;36m_method_wrapper\u001b[0;34m(self, *args, **kwargs)\u001b[0m\n\u001b[1;32m    440\u001b[0m     \u001b[0mself\u001b[0m\u001b[0;34m.\u001b[0m\u001b[0m_setattr_tracking\u001b[0m \u001b[0;34m=\u001b[0m \u001b[0;32mFalse\u001b[0m  \u001b[0;31m# pylint: disable=protected-access\u001b[0m\u001b[0;34m\u001b[0m\u001b[0;34m\u001b[0m\u001b[0m\n\u001b[1;32m    441\u001b[0m     \u001b[0;32mtry\u001b[0m\u001b[0;34m:\u001b[0m\u001b[0;34m\u001b[0m\u001b[0;34m\u001b[0m\u001b[0m\n\u001b[0;32m--> 442\u001b[0;31m       \u001b[0mmethod\u001b[0m\u001b[0;34m(\u001b[0m\u001b[0mself\u001b[0m\u001b[0;34m,\u001b[0m \u001b[0;34m*\u001b[0m\u001b[0margs\u001b[0m\u001b[0;34m,\u001b[0m \u001b[0;34m**\u001b[0m\u001b[0mkwargs\u001b[0m\u001b[0;34m)\u001b[0m\u001b[0;34m\u001b[0m\u001b[0;34m\u001b[0m\u001b[0m\n\u001b[0m\u001b[1;32m    443\u001b[0m     \u001b[0;32mfinally\u001b[0m\u001b[0;34m:\u001b[0m\u001b[0;34m\u001b[0m\u001b[0;34m\u001b[0m\u001b[0m\n\u001b[1;32m    444\u001b[0m       \u001b[0mself\u001b[0m\u001b[0;34m.\u001b[0m\u001b[0m_setattr_tracking\u001b[0m \u001b[0;34m=\u001b[0m \u001b[0mprevious_value\u001b[0m  \u001b[0;31m# pylint: disable=protected-access\u001b[0m\u001b[0;34m\u001b[0m\u001b[0;34m\u001b[0m\u001b[0m\n",
            "\u001b[0;32m/usr/local/lib/python3.6/dist-packages/tensorflow/python/keras/engine/base_layer.py\u001b[0m in \u001b[0;36m__init__\u001b[0;34m(self, trainable, name, dtype, **kwargs)\u001b[0m\n\u001b[1;32m    120\u001b[0m     \u001b[0;32mfor\u001b[0m \u001b[0mkwarg\u001b[0m \u001b[0;32min\u001b[0m \u001b[0mkwargs\u001b[0m\u001b[0;34m:\u001b[0m\u001b[0;34m\u001b[0m\u001b[0;34m\u001b[0m\u001b[0m\n\u001b[1;32m    121\u001b[0m       \u001b[0;32mif\u001b[0m \u001b[0mkwarg\u001b[0m \u001b[0;32mnot\u001b[0m \u001b[0;32min\u001b[0m \u001b[0mallowed_kwargs\u001b[0m\u001b[0;34m:\u001b[0m\u001b[0;34m\u001b[0m\u001b[0;34m\u001b[0m\u001b[0m\n\u001b[0;32m--> 122\u001b[0;31m         \u001b[0;32mraise\u001b[0m \u001b[0mTypeError\u001b[0m\u001b[0;34m(\u001b[0m\u001b[0;34m'Keyword argument not understood:'\u001b[0m\u001b[0;34m,\u001b[0m \u001b[0mkwarg\u001b[0m\u001b[0;34m)\u001b[0m\u001b[0;34m\u001b[0m\u001b[0;34m\u001b[0m\u001b[0m\n\u001b[0m\u001b[1;32m    123\u001b[0m \u001b[0;34m\u001b[0m\u001b[0m\n\u001b[1;32m    124\u001b[0m     \u001b[0;31m# Mutable properties\u001b[0m\u001b[0;34m\u001b[0m\u001b[0;34m\u001b[0m\u001b[0;34m\u001b[0m\u001b[0m\n",
            "\u001b[0;31mTypeError\u001b[0m: ('Keyword argument not understood:', 'ouptut_shape')"
          ]
        }
      ]
    }
  ]
}